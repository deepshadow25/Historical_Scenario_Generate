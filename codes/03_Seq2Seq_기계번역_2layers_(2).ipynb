{
  "cells": [
    {
      "cell_type": "code",
      "execution_count": null,
      "metadata": {
        "id": "K57DXqZnmcQE",
        "colab": {
          "base_uri": "https://localhost:8080/"
        },
        "outputId": "777333d3-85dc-471a-ae0e-cfc67dc77ba6"
      },
      "outputs": [
        {
          "output_type": "stream",
          "name": "stdout",
          "text": [
            "Selecting previously unselected package fonts-nanum.\n",
            "(Reading database ... 124016 files and directories currently installed.)\n",
            "Preparing to unpack .../fonts-nanum_20170925-1_all.deb ...\n",
            "Unpacking fonts-nanum (20170925-1) ...\n",
            "Selecting previously unselected package fonts-nanum-eco.\n",
            "Preparing to unpack .../fonts-nanum-eco_1.000-6_all.deb ...\n",
            "Unpacking fonts-nanum-eco (1.000-6) ...\n",
            "Selecting previously unselected package fonts-nanum-extra.\n",
            "Preparing to unpack .../fonts-nanum-extra_20170925-1_all.deb ...\n",
            "Unpacking fonts-nanum-extra (20170925-1) ...\n",
            "Selecting previously unselected package fonts-nanum-coding.\n",
            "Preparing to unpack .../fonts-nanum-coding_2.5-1_all.deb ...\n",
            "Unpacking fonts-nanum-coding (2.5-1) ...\n",
            "Setting up fonts-nanum-extra (20170925-1) ...\n",
            "Setting up fonts-nanum (20170925-1) ...\n",
            "Setting up fonts-nanum-coding (2.5-1) ...\n",
            "Setting up fonts-nanum-eco (1.000-6) ...\n",
            "Processing triggers for fontconfig (2.12.6-0ubuntu2) ...\n"
          ]
        }
      ],
      "source": [
        "# 그래프에서 한글표현을 위해 폰트를 설치합니다.\n",
        "!apt-get update -qq\n",
        "!apt-get install fonts-nanum* -qq"
      ]
    },
    {
      "cell_type": "code",
      "execution_count": null,
      "metadata": {
        "colab": {
          "base_uri": "https://localhost:8080/"
        },
        "id": "qFz9tEFJTIp1",
        "outputId": "a7f51da2-90b7-4949-f4f6-7136187e9f3c"
      },
      "outputs": [
        {
          "output_type": "stream",
          "name": "stdout",
          "text": [
            "NanumGothic Eco\n"
          ]
        }
      ],
      "source": [
        "import matplotlib.pyplot as plt  # 그래프 그리는 용도\n",
        "import matplotlib.font_manager as fm  # 폰트 관련 용도\n",
        "path = '/usr/share/fonts/truetype/nanum/NanumGothicEco.ttf'  # 설치된 나눔글꼴중 원하는 녀석의 전체 경로를 가져오자\n",
        "font_name = fm.FontProperties(fname=path, size=10).get_name()\n",
        "print(font_name)\n",
        "\n",
        "plt.rc('font', family=font_name)\n",
        "\n",
        "fm._rebuild()"
      ]
    },
    {
      "cell_type": "code",
      "execution_count": null,
      "metadata": {
        "colab": {
          "base_uri": "https://localhost:8080/",
          "height": 602
        },
        "id": "d5GUyI3zhKj_",
        "outputId": "58165237-fc1c-4521-bfc6-89c2f2a4ae72"
      },
      "outputs": [
        {
          "output_type": "execute_result",
          "data": {
            "text/plain": [
              "Text(0.5, 1.0, '한글 제목')"
            ]
          },
          "metadata": {},
          "execution_count": 3
        },
        {
          "output_type": "stream",
          "name": "stderr",
          "text": [
            "WARNING:matplotlib.font_manager:findfont: Font family ['NanumGothic Eco'] not found. Falling back to DejaVu Sans.\n",
            "/usr/local/lib/python3.8/dist-packages/matplotlib/backends/backend_agg.py:214: RuntimeWarning: Glyph 54620 missing from current font.\n",
            "  font.set_text(s, 0.0, flags=flags)\n",
            "/usr/local/lib/python3.8/dist-packages/matplotlib/backends/backend_agg.py:214: RuntimeWarning: Glyph 44544 missing from current font.\n",
            "  font.set_text(s, 0.0, flags=flags)\n",
            "/usr/local/lib/python3.8/dist-packages/matplotlib/backends/backend_agg.py:214: RuntimeWarning: Glyph 51228 missing from current font.\n",
            "  font.set_text(s, 0.0, flags=flags)\n",
            "/usr/local/lib/python3.8/dist-packages/matplotlib/backends/backend_agg.py:214: RuntimeWarning: Glyph 47785 missing from current font.\n",
            "  font.set_text(s, 0.0, flags=flags)\n",
            "WARNING:matplotlib.font_manager:findfont: Font family ['NanumGothic Eco'] not found. Falling back to DejaVu Sans.\n",
            "/usr/local/lib/python3.8/dist-packages/matplotlib/backends/backend_agg.py:183: RuntimeWarning: Glyph 54620 missing from current font.\n",
            "  font.set_text(s, 0, flags=flags)\n",
            "/usr/local/lib/python3.8/dist-packages/matplotlib/backends/backend_agg.py:183: RuntimeWarning: Glyph 44544 missing from current font.\n",
            "  font.set_text(s, 0, flags=flags)\n",
            "/usr/local/lib/python3.8/dist-packages/matplotlib/backends/backend_agg.py:183: RuntimeWarning: Glyph 51228 missing from current font.\n",
            "  font.set_text(s, 0, flags=flags)\n",
            "/usr/local/lib/python3.8/dist-packages/matplotlib/backends/backend_agg.py:183: RuntimeWarning: Glyph 47785 missing from current font.\n",
            "  font.set_text(s, 0, flags=flags)\n"
          ]
        },
        {
          "output_type": "display_data",
          "data": {
            "text/plain": [
              "<Figure size 432x288 with 1 Axes>"
            ],
            "image/png": "[encoded data removed]"
          },
          "metadata": {
            "needs_background": "light"
          }
        }
      ],
      "source": [
        "plt.plot([1,2])\n",
        "plt.title(\"한글 제목\")"
      ]
    },
    {
      "cell_type": "code",
      "execution_count": null,
      "metadata": {
        "id": "cZw1fVIteaQJ"
      },
      "outputs": [],
      "source": [
        "import re\n",
        "import os\n",
        "import unicodedata\n",
        "import urllib3\n",
        "import zipfile\n",
        "import shutil\n",
        "import numpy as np\n",
        "import pandas as pd\n",
        "import tensorflow as tf\n",
        "from tensorflow.keras.layers import Embedding, GRU, Dense\n",
        "from tensorflow.keras.preprocessing.text import Tokenizer\n",
        "from tensorflow.keras.preprocessing.sequence import pad_sequences"
      ]
    },
    {
      "cell_type": "markdown",
      "metadata": {
        "id": "eaMuDgAGeHSf"
      },
      "source": [
        "## Download the data\n"
      ]
    },
    {
      "cell_type": "code",
      "execution_count": null,
      "metadata": {
        "colab": {
          "base_uri": "https://localhost:8080/"
        },
        "id": "rRfJZZXhP7ZS",
        "outputId": "06f8cd3d-002e-490c-b95f-d33f4763b402"
      },
      "outputs": [
        {
          "output_type": "stream",
          "name": "stdout",
          "text": [
            "/usr/local/lib/python3.8/dist-packages/gdown/cli.py:127: FutureWarning: Option `--id` was deprecated in version 4.3.1 and will be removed in 5.0. You don't need to pass it anymore to use a file ID.\n",
            "  warnings.warn(\n",
            "Downloading...\n",
            "From: https://drive.google.com/uc?id=1V6HsBoEczDoo4NDZ1I5iXSfRxFxCatis\n",
            "To: /content/1_구어체(1).xlsx\n",
            "100% 15.8M/15.8M [00:00<00:00, 94.9MB/s]\n"
          ]
        }
      ],
      "source": [
        "!gdown --id 1V6HsBoEczDoo4NDZ1I5iXSfRxFxCatis"
      ]
    },
    {
      "cell_type": "code",
      "execution_count": null,
      "metadata": {
        "colab": {
          "base_uri": "https://localhost:8080/",
          "height": 424
        },
        "id": "5IQTEqtjeHSf",
        "outputId": "21f2c8a7-5495-43ee-d121-939c44940f53"
      },
      "outputs": [
        {
          "output_type": "execute_result",
          "data": {
            "text/plain": [
              "           SID                                                 원문  \\\n",
              "0            1  'Bible Coloring'은 성경의 아름다운 이야기를 체험 할 수 있는 컬러링 ...   \n",
              "1            2                                       씨티은행에서 일하세요?   \n",
              "2            3              푸리토의 베스트셀러는 해외에서 입소문만으로 4차 완판을 기록하였다.   \n",
              "3            4   11장에서는 예수님이 이번엔 나사로를 무덤에서 불러내어 죽은 자 가운데서 살리셨습니다.   \n",
              "4            5     6.5, 7, 8 사이즈가 몇 개나 더 재입고 될지 제게 알려주시면 감사하겠습니다.   \n",
              "...        ...                                                ...   \n",
              "199995  199996                               나는 먼저 청소기로 바닥을 밀었어요.   \n",
              "199996  199997                             나는 먼저 팀 과제를 하고 놀러 갔어요.   \n",
              "199997  199998                              나는 비 같은 멋진 연예인을 좋아해요.   \n",
              "199998  199999                           나는 멋진 자연 경치를 보고 눈물을 흘렸어.   \n",
              "199999  200000                               나는 멋진 중학교 생활을 기대합니다.   \n",
              "\n",
              "                                                      번역문  \n",
              "0       Bible Coloring' is a coloring application that...  \n",
              "1                             Do you work at a City bank?  \n",
              "2       PURITO's bestseller, which recorded 4th rough ...  \n",
              "3       In Chapter 11 Jesus called Lazarus from the to...  \n",
              "4       I would feel grateful to know how many stocks ...  \n",
              "...                                                   ...  \n",
              "199995                First of all, I vacuumed the floor.  \n",
              "199996  I did the team assignment first and went out t...  \n",
              "199997                 I like cool entertainer like Rain.  \n",
              "199998                I cried seeing the amazing scenery.  \n",
              "199999  I look forward to a great middle school experi...  \n",
              "\n",
              "[200000 rows x 3 columns]"
            ],
            "text/html": [
              "\n",
              "  <div id=\"df-be28f185-fa9c-448d-b142-7100eccba4c5\">\n",
              "    <div class=\"colab-df-container\">\n",
              "      <div>\n",
              "<style scoped>\n",
              "    .dataframe tbody tr th:only-of-type {\n",
              "        vertical-align: middle;\n",
              "    }\n",
              "\n",
              "    .dataframe tbody tr th {\n",
              "        vertical-align: top;\n",
              "    }\n",
              "\n",
              "    .dataframe thead th {\n",
              "        text-align: right;\n",
              "    }\n",
              "</style>\n",
              "<table border=\"1\" class=\"dataframe\">\n",
              "  <thead>\n",
              "    <tr style=\"text-align: right;\">\n",
              "      <th></th>\n",
              "      <th>SID</th>\n",
              "      <th>원문</th>\n",
              "      <th>번역문</th>\n",
              "    </tr>\n",
              "  </thead>\n",
              "  <tbody>\n",
              "    <tr>\n",
              "      <th>0</th>\n",
              "      <td>1</td>\n",
              "      <td>'Bible Coloring'은 성경의 아름다운 이야기를 체험 할 수 있는 컬러링 ...</td>\n",
              "      <td>Bible Coloring' is a coloring application that...</td>\n",
              "    </tr>\n",
              "    <tr>\n",
              "      <th>1</th>\n",
              "      <td>2</td>\n",
              "      <td>씨티은행에서 일하세요?</td>\n",
              "      <td>Do you work at a City bank?</td>\n",
              "    </tr>\n",
              "    <tr>\n",
              "      <th>2</th>\n",
              "      <td>3</td>\n",
              "      <td>푸리토의 베스트셀러는 해외에서 입소문만으로 4차 완판을 기록하였다.</td>\n",
              "      <td>PURITO's bestseller, which recorded 4th rough ...</td>\n",
              "    </tr>\n",
              "    <tr>\n",
              "      <th>3</th>\n",
              "      <td>4</td>\n",
              "      <td>11장에서는 예수님이 이번엔 나사로를 무덤에서 불러내어 죽은 자 가운데서 살리셨습니다.</td>\n",
              "      <td>In Chapter 11 Jesus called Lazarus from the to...</td>\n",
              "    </tr>\n",
              "    <tr>\n",
              "      <th>4</th>\n",
              "      <td>5</td>\n",
              "      <td>6.5, 7, 8 사이즈가 몇 개나 더 재입고 될지 제게 알려주시면 감사하겠습니다.</td>\n",
              "      <td>I would feel grateful to know how many stocks ...</td>\n",
              "    </tr>\n",
              "    <tr>\n",
              "      <th>...</th>\n",
              "      <td>...</td>\n",
              "      <td>...</td>\n",
              "      <td>...</td>\n",
              "    </tr>\n",
              "    <tr>\n",
              "      <th>199995</th>\n",
              "      <td>199996</td>\n",
              "      <td>나는 먼저 청소기로 바닥을 밀었어요.</td>\n",
              "      <td>First of all, I vacuumed the floor.</td>\n",
              "    </tr>\n",
              "    <tr>\n",
              "      <th>199996</th>\n",
              "      <td>199997</td>\n",
              "      <td>나는 먼저 팀 과제를 하고 놀러 갔어요.</td>\n",
              "      <td>I did the team assignment first and went out t...</td>\n",
              "    </tr>\n",
              "    <tr>\n",
              "      <th>199997</th>\n",
              "      <td>199998</td>\n",
              "      <td>나는 비 같은 멋진 연예인을 좋아해요.</td>\n",
              "      <td>I like cool entertainer like Rain.</td>\n",
              "    </tr>\n",
              "    <tr>\n",
              "      <th>199998</th>\n",
              "      <td>199999</td>\n",
              "      <td>나는 멋진 자연 경치를 보고 눈물을 흘렸어.</td>\n",
              "      <td>I cried seeing the amazing scenery.</td>\n",
              "    </tr>\n",
              "    <tr>\n",
              "      <th>199999</th>\n",
              "      <td>200000</td>\n",
              "      <td>나는 멋진 중학교 생활을 기대합니다.</td>\n",
              "      <td>I look forward to a great middle school experi...</td>\n",
              "    </tr>\n",
              "  </tbody>\n",
              "</table>\n",
              "<p>200000 rows × 3 columns</p>\n",
              "</div>\n",
              "      <button class=\"colab-df-convert\" onclick=\"convertToInteractive('df-be28f185-fa9c-448d-b142-7100eccba4c5')\"\n",
              "              title=\"Convert this dataframe to an interactive table.\"\n",
              "              style=\"display:none;\">\n",
              "        \n",
              "  <svg xmlns=\"http://www.w3.org/2000/svg\" height=\"24px\"viewBox=\"0 0 24 24\"\n",
              "       width=\"24px\">\n",
              "    <path d=\"M0 0h24v24H0V0z\" fill=\"none\"/>\n",
              "    <path d=\"M18.56 5.44l.94 2.06.94-2.06 2.06-.94-2.06-.94-.94-2.06-.94 2.06-2.06.94zm-11 1L8.5 8.5l.94-2.06 2.06-.94-2.06-.94L8.5 2.5l-.94 2.06-2.06.94zm10 10l.94 2.06.94-2.06 2.06-.94-2.06-.94-.94-2.06-.94 2.06-2.06.94z\"/><path d=\"M17.41 7.96l-1.37-1.37c-.4-.4-.92-.59-1.43-.59-.52 0-1.04.2-1.43.59L10.3 9.45l-7.72 7.72c-.78.78-.78 2.05 0 2.83L4 21.41c.39.39.9.59 1.41.59.51 0 1.02-.2 1.41-.59l7.78-7.78 2.81-2.81c.8-.78.8-2.07 0-2.86zM5.41 20L4 18.59l7.72-7.72 1.47 1.35L5.41 20z\"/>\n",
              "  </svg>\n",
              "      </button>\n",
              "      \n",
              "  <style>\n",
              "    .colab-df-container {\n",
              "      display:flex;\n",
              "      flex-wrap:wrap;\n",
              "      gap: 12px;\n",
              "    }\n",
              "\n",
              "    .colab-df-convert {\n",
              "      background-color: #E8F0FE;\n",
              "      border: none;\n",
              "      border-radius: 50%;\n",
              "      cursor: pointer;\n",
              "      display: none;\n",
              "      fill: #1967D2;\n",
              "      height: 32px;\n",
              "      padding: 0 0 0 0;\n",
              "      width: 32px;\n",
              "    }\n",
              "\n",
              "    .colab-df-convert:hover {\n",
              "      background-color: #E2EBFA;\n",
              "      box-shadow: 0px 1px 2px rgba(60, 64, 67, 0.3), 0px 1px 3px 1px rgba(60, 64, 67, 0.15);\n",
              "      fill: #174EA6;\n",
              "    }\n",
              "\n",
              "    [theme=dark] .colab-df-convert {\n",
              "      background-color: #3B4455;\n",
              "      fill: #D2E3FC;\n",
              "    }\n",
              "\n",
              "    [theme=dark] .colab-df-convert:hover {\n",
              "      background-color: #434B5C;\n",
              "      box-shadow: 0px 1px 3px 1px rgba(0, 0, 0, 0.15);\n",
              "      filter: drop-shadow(0px 1px 2px rgba(0, 0, 0, 0.3));\n",
              "      fill: #FFFFFF;\n",
              "    }\n",
              "  </style>\n",
              "\n",
              "      <script>\n",
              "        const buttonEl =\n",
              "          document.querySelector('#df-be28f185-fa9c-448d-b142-7100eccba4c5 button.colab-df-convert');\n",
              "        buttonEl.style.display =\n",
              "          google.colab.kernel.accessAllowed ? 'block' : 'none';\n",
              "\n",
              "        async function convertToInteractive(key) {\n",
              "          const element = document.querySelector('#df-be28f185-fa9c-448d-b142-7100eccba4c5');\n",
              "          const dataTable =\n",
              "            await google.colab.kernel.invokeFunction('convertToInteractive',\n",
              "                                                     [key], {});\n",
              "          if (!dataTable) return;\n",
              "\n",
              "          const docLinkHtml = 'Like what you see? Visit the ' +\n",
              "            '<a target=\"_blank\" href=https://colab.research.google.com/notebooks/data_table.ipynb>data table notebook</a>'\n",
              "            + ' to learn more about interactive tables.';\n",
              "          element.innerHTML = '';\n",
              "          dataTable['output_type'] = 'display_data';\n",
              "          await google.colab.output.renderOutput(dataTable, element);\n",
              "          const docLink = document.createElement('div');\n",
              "          docLink.innerHTML = docLinkHtml;\n",
              "          element.appendChild(docLink);\n",
              "        }\n",
              "      </script>\n",
              "    </div>\n",
              "  </div>\n",
              "  "
            ]
          },
          "metadata": {},
          "execution_count": 6
        }
      ],
      "source": [
        "import pandas as pd\n",
        "\n",
        "df = pd.read_excel('/content/1_구어체(1).xlsx')\n",
        "df"
      ]
    },
    {
      "cell_type": "code",
      "source": [
        "print (df.원문.map(lambda x: len(x)).max())"
      ],
      "metadata": {
        "id": "YWNyas-2Rjm9",
        "outputId": "104a8b79-8a7d-4338-bdea-322405f58ade",
        "colab": {
          "base_uri": "https://localhost:8080/"
        }
      },
      "execution_count": null,
      "outputs": [
        {
          "output_type": "stream",
          "name": "stdout",
          "text": [
            "109\n"
          ]
        }
      ]
    },
    {
      "cell_type": "code",
      "source": [
        "df['번역문'].isnull().values.any()"
      ],
      "metadata": {
        "id": "4r6c77NINDd4",
        "outputId": "4a1337ef-79da-4303-86b4-7e456e62b96b",
        "colab": {
          "base_uri": "https://localhost:8080/"
        }
      },
      "execution_count": null,
      "outputs": [
        {
          "output_type": "execute_result",
          "data": {
            "text/plain": [
              "False"
            ]
          },
          "metadata": {},
          "execution_count": 8
        }
      ]
    },
    {
      "cell_type": "markdown",
      "metadata": {
        "id": "hWy5iZxheHSg"
      },
      "source": [
        "## Modeling\n"
      ]
    },
    {
      "cell_type": "code",
      "execution_count": null,
      "metadata": {
        "id": "-QF3vktteHSg"
      },
      "outputs": [],
      "source": [
        "# 직접 만들어보세요!"
      ]
    },
    {
      "cell_type": "code",
      "source": [
        "batch_size = 128  # Batch size for training.\n",
        "epochs = 100  # Number of epochs to train for.\n",
        "hidden_units = 256  # Latent dimensionality of the encoding space.\n",
        "embedding_dim = 150\n",
        "num_samples = 200000  # Number of samples to train on."
      ],
      "metadata": {
        "id": "4SnY4SwwNirX"
      },
      "execution_count": null,
      "outputs": []
    },
    {
      "cell_type": "code",
      "execution_count": null,
      "metadata": {
        "id": "nZ1-npBdvJ4_"
      },
      "outputs": [],
      "source": [
        "def preprocess_sentence(sent):\n",
        "\n",
        "  # 단어와 구두점 사이에 공백을 만듭니다.\n",
        "  # Ex) \"he is a boy.\" => \"he is a boy .\"\n",
        "  sent = re.sub(r\"([?.!,¿])\", r\" \\1\", sent)\n",
        "\n",
        "  # (a-z, A-Z, \".\", \"?\", \"!\", \",\") 이들을 제외하고는 전부 공백으로 변환합니다.\n",
        "  sent = re.sub(r\"[^a-zA-Z가-힣ㄱ-ㅎ0-9!.?':;]+\", r\" \", sent)\n",
        "\n",
        "  # 다수 개의 공백을 하나의 공백으로 치환\n",
        "  sent = re.sub(r\"\\s+\", \" \", sent)\n",
        "  return sent"
      ]
    },
    {
      "cell_type": "code",
      "source": [
        "def load_preprocessed_data():\n",
        "  encoder_input, decoder_input, decoder_target = [], [], []\n",
        "  \n",
        "  # source 데이터와 target 데이터 분리\n",
        "  for i in range(len(df)):\n",
        "    src_line = df['원문'][i]\n",
        "    tar_line = df['번역문'][i]\n",
        "\n",
        "    # source 데이터 전처리\n",
        "    src_line = [w for w in preprocess_sentence(src_line).split()]\n",
        "\n",
        "    # target 데이터 전처리\n",
        "    tar_line = preprocess_sentence(tar_line)\n",
        "    tar_line_in = [w for w in (\"<sos> \" + tar_line).split()]  # teacher forcing을 위한 정답셋 \n",
        "    tar_line_out = [w for w in (tar_line + \" <eos>\").split()]\n",
        "\n",
        "    encoder_input.append(src_line)\n",
        "    decoder_input.append(tar_line_in)\n",
        "    decoder_target.append(tar_line_out)\n",
        "\n",
        "    if i == num_samples - 1:\n",
        "      break\n",
        "              \n",
        "  return encoder_input, decoder_input, decoder_target"
      ],
      "metadata": {
        "id": "xCIEqQNHMvDo"
      },
      "execution_count": null,
      "outputs": []
    },
    {
      "cell_type": "code",
      "source": [
        "# src_line = df['번역문'][0]\n",
        "# src_line\n",
        "# # src_line = [w for w in preprocess_sentence(src_line).split()]"
      ],
      "metadata": {
        "id": "CLKFXWpDPkiK"
      },
      "execution_count": null,
      "outputs": []
    },
    {
      "cell_type": "code",
      "source": [
        "sents_kr_in, sents_en_in, sents_en_out  = load_preprocessed_data()"
      ],
      "metadata": {
        "id": "PAtgCSrHNoY4"
      },
      "execution_count": null,
      "outputs": []
    },
    {
      "cell_type": "code",
      "source": [
        "# 한국어\n",
        "tokenizer_kr = Tokenizer(filters=\"\", lower=False)\n",
        "tokenizer_kr.fit_on_texts(sents_kr_in)\n",
        "\n",
        "\n",
        "# 인코더 데이터\n",
        "encoder_input = tokenizer_kr.texts_to_sequences(sents_kr_in)"
      ],
      "metadata": {
        "id": "cjoSf4glQvqZ"
      },
      "execution_count": null,
      "outputs": []
    },
    {
      "cell_type": "code",
      "source": [
        "# 영어\n",
        "tokenizer_en = Tokenizer(filters=\"\", lower=False)\n",
        "tokenizer_en.fit_on_texts(sents_en_in)\n",
        "tokenizer_en.fit_on_texts(sents_en_out)\n",
        "\n",
        "# 디코더 데이터\n",
        "decoder_input = tokenizer_en.texts_to_sequences(sents_en_in)\n",
        "decoder_target = tokenizer_en.texts_to_sequences(sents_en_out)"
      ],
      "metadata": {
        "id": "u6CzbXvOQz9t"
      },
      "execution_count": null,
      "outputs": []
    },
    {
      "cell_type": "code",
      "source": [
        "decoder_target[-5:]"
      ],
      "metadata": {
        "id": "CkjDUmm5Q13c",
        "outputId": "2d8c9295-5837-4ffa-cda0-7e84131e505f",
        "colab": {
          "base_uri": "https://localhost:8080/"
        }
      },
      "execution_count": null,
      "outputs": [
        {
          "output_type": "execute_result",
          "data": {
            "text/plain": [
              "[[448, 11, 65, 5, 47308, 4, 528, 1, 3],\n",
              " [5, 152, 4, 331, 2335, 109, 10, 153, 76, 6, 312, 1, 3],\n",
              " [5, 35, 1031, 9419, 35, 8158, 1, 3],\n",
              " [5, 2913, 977, 4, 1599, 2017, 1, 3],\n",
              " [5, 215, 651, 6, 7, 225, 726, 117, 328, 1, 3]]"
            ]
          },
          "metadata": {},
          "execution_count": 17
        }
      ]
    },
    {
      "cell_type": "markdown",
      "source": [
        "각 문장을 입력층의 최대 길이만큼 패딩(padding)을 수행합니다. "
      ],
      "metadata": {
        "id": "7BL-FW8qQ-Ws"
      }
    },
    {
      "cell_type": "code",
      "source": [
        "encoder_input = pad_sequences(encoder_input, padding='post')\n",
        "decoder_input = pad_sequences(decoder_input, padding='post')\n",
        "decoder_target = pad_sequences(decoder_target, padding='post')"
      ],
      "metadata": {
        "id": "pBqr037nQ5El"
      },
      "execution_count": null,
      "outputs": []
    },
    {
      "cell_type": "code",
      "source": [
        "print('인코더의 입력의 크기(shape) :',encoder_input.shape)\n",
        "print('디코더의 입력의 크기(shape) :',decoder_input.shape)\n",
        "print('디코더의 레이블의 크기(shape) :',decoder_target.shape)"
      ],
      "metadata": {
        "id": "m25C8lnYRXNN",
        "outputId": "f462f99d-00b9-4e03-a880-fb1cca7a55b8",
        "colab": {
          "base_uri": "https://localhost:8080/"
        }
      },
      "execution_count": null,
      "outputs": [
        {
          "output_type": "stream",
          "name": "stdout",
          "text": [
            "인코더의 입력의 크기(shape) : (200000, 31)\n",
            "디코더의 입력의 크기(shape) : (200000, 55)\n",
            "디코더의 레이블의 크기(shape) : (200000, 55)\n"
          ]
        }
      ]
    },
    {
      "cell_type": "markdown",
      "source": [
        "샘플은 총 200,000개 존재하며 한국어 문장의 길이는 32, 영어 문장의 길이는 57입니다. 단어 집합의 크기를 정의합니다.\n"
      ],
      "metadata": {
        "id": "J72wFuxCSEb3"
      }
    },
    {
      "cell_type": "code",
      "source": [
        "print(tokenizer_en.word_index['<eos>'])\n",
        "print(tokenizer_kr.word_index['.'])"
      ],
      "metadata": {
        "id": "pI9gGaaxSZKm",
        "outputId": "427497f6-ab9c-4b20-b59a-f13db6b5b455",
        "colab": {
          "base_uri": "https://localhost:8080/"
        }
      },
      "execution_count": null,
      "outputs": [
        {
          "output_type": "stream",
          "name": "stdout",
          "text": [
            "3\n",
            "1\n"
          ]
        }
      ]
    },
    {
      "cell_type": "code",
      "source": [
        "src_vocab_size = len(tokenizer_kr.word_index) + 1\n",
        "tar_vocab_size = len(tokenizer_en.word_index) + 1\n",
        "\n",
        "print(f\"한국어 단어 집합의 크기 : {src_vocab_size}, 영어 단어 집합의 크기 : {tar_vocab_size}\")"
      ],
      "metadata": {
        "id": "T_x61iHoS2eF",
        "outputId": "2becd6ff-72fa-4d9f-a7c5-c7a120f29831",
        "colab": {
          "base_uri": "https://localhost:8080/"
        }
      },
      "execution_count": null,
      "outputs": [
        {
          "output_type": "stream",
          "name": "stdout",
          "text": [
            "한국어 단어 집합의 크기 : 202466, 영어 단어 집합의 크기 : 47309\n"
          ]
        }
      ]
    },
    {
      "cell_type": "markdown",
      "source": [
        "단어로부터 정수를 얻는 딕셔너리와 정수로부터 단어를 얻는 딕셔너리를 각각 만들어줍니다. 이들은 훈련을 마치고 예측값과 실제값을 비교하는 단계에서 사용합니다. "
      ],
      "metadata": {
        "id": "Qeh4CQwuTS6j"
      }
    },
    {
      "cell_type": "code",
      "source": [
        "src_to_index = tokenizer_kr.word_index  # word : idx\n",
        "index_to_src = tokenizer_kr.index_word  # idx : word\n",
        "tar_to_index = tokenizer_en.word_index # word : idx\n",
        "index_to_tar = tokenizer_en.index_word # idx : word"
      ],
      "metadata": {
        "id": "NAacnRvJTR0D"
      },
      "execution_count": null,
      "outputs": []
    },
    {
      "cell_type": "code",
      "source": [
        "index_to_src[100], index_to_tar[100]"
      ],
      "metadata": {
        "id": "7ERzN-UKTpQ5",
        "outputId": "fef0cf4a-7217-45b1-9c5c-ce98ec7a51e7",
        "colab": {
          "base_uri": "https://localhost:8080/"
        }
      },
      "execution_count": null,
      "outputs": [
        {
          "output_type": "execute_result",
          "data": {
            "text/plain": [
              "('가지고', 'lot')"
            ]
          },
          "metadata": {},
          "execution_count": 23
        }
      ]
    },
    {
      "cell_type": "code",
      "source": [
        "from itertools import islice\n",
        "\n",
        "def take(n, iterable):\n",
        "    \"\"\"Return the first n items of the iterable as a list.\"\"\"\n",
        "    return list(islice(iterable, n))\n",
        "\n",
        "n_items = take(5, tar_to_index.items())\n",
        "n_items"
      ],
      "metadata": {
        "id": "Y_fwWg1bU_La",
        "outputId": "d13798fa-a46a-4e89-c8a3-fb2e36ff6d96",
        "colab": {
          "base_uri": "https://localhost:8080/"
        }
      },
      "execution_count": null,
      "outputs": [
        {
          "output_type": "execute_result",
          "data": {
            "text/plain": [
              "[('.', 1), ('<sos>', 2), ('<eos>', 3), ('the', 4), ('I', 5)]"
            ]
          },
          "metadata": {},
          "execution_count": 24
        }
      ]
    },
    {
      "cell_type": "markdown",
      "source": [
        "테스트 데이터를 분리하겠습니다. 인코더 input, 디코더 input, 디코더 output이 동일하게 분리되어야 하기 때문에 랜덤한 정수배열을 만들어 직접 나누겠습니다. \n",
        "\n",
        "우선 랜덤하게 시퀀스를 섞습니다. "
      ],
      "metadata": {
        "id": "baCHXBWCV8Cr"
      }
    },
    {
      "cell_type": "code",
      "source": [
        "indices = np.arange(encoder_input.shape[0])\n",
        "np.random.shuffle(indices)\n",
        "print('랜덤 시퀀스 :',indices)"
      ],
      "metadata": {
        "id": "xpAMHOkgV--4",
        "outputId": "10d730ea-a01f-419c-ba6f-15b77eeda6e1",
        "colab": {
          "base_uri": "https://localhost:8080/"
        }
      },
      "execution_count": null,
      "outputs": [
        {
          "output_type": "stream",
          "name": "stdout",
          "text": [
            "랜덤 시퀀스 : [ 51728  52825 105837 ... 157409 187518 153070]\n"
          ]
        }
      ]
    },
    {
      "cell_type": "code",
      "source": [
        "# 배열\n",
        "encoder_input = encoder_input[indices]\n",
        "decoder_input = decoder_input[indices]\n",
        "decoder_target = decoder_target[indices]"
      ],
      "metadata": {
        "id": "61btA4K9WBal"
      },
      "execution_count": null,
      "outputs": []
    },
    {
      "cell_type": "code",
      "source": [
        "decoder_input[indices[0]], decoder_target[indices[0]]"
      ],
      "metadata": {
        "id": "L0AMgHSKWDZe",
        "outputId": "51f0a3f0-2382-4712-bdbe-6ad43a3aa7eb",
        "colab": {
          "base_uri": "https://localhost:8080/"
        }
      },
      "execution_count": null,
      "outputs": [
        {
          "output_type": "execute_result",
          "data": {
            "text/plain": [
              "(array([   2,   42,   23,   21,  729,    6,   50,   52,  367,   48,    4,\n",
              "         217,    9, 1898,    1,    0,    0,    0,    0,    0,    0,    0,\n",
              "           0,    0,    0,    0,    0,    0,    0,    0,    0,    0,    0,\n",
              "           0,    0,    0,    0,    0,    0,    0,    0,    0,    0,    0,\n",
              "           0,    0,    0,    0,    0,    0,    0,    0,    0,    0,    0],\n",
              "       dtype=int32),\n",
              " array([  42,   23,   21,  729,    6,   50,   52,  367,   48,    4,  217,\n",
              "           9, 1898,    1,    3,    0,    0,    0,    0,    0,    0,    0,\n",
              "           0,    0,    0,    0,    0,    0,    0,    0,    0,    0,    0,\n",
              "           0,    0,    0,    0,    0,    0,    0,    0,    0,    0,    0,\n",
              "           0,    0,    0,    0,    0,    0,    0,    0,    0,    0,    0],\n",
              "       dtype=int32))"
            ]
          },
          "metadata": {},
          "execution_count": 27
        }
      ]
    },
    {
      "cell_type": "code",
      "source": [
        "n_of_val = int(num_samples*0.1)\n",
        "\n",
        "encoder_input_train = encoder_input[:-n_of_val]\n",
        "decoder_input_train = decoder_input[:-n_of_val]\n",
        "decoder_target_train = decoder_target[:-n_of_val]\n",
        "\n",
        "encoder_input_test = encoder_input[-n_of_val:]\n",
        "decoder_input_test = decoder_input[-n_of_val:]\n",
        "decoder_target_test = decoder_target[-n_of_val:]"
      ],
      "metadata": {
        "id": "UWSz2RZgWLRu"
      },
      "execution_count": null,
      "outputs": []
    },
    {
      "cell_type": "code",
      "source": [
        "print('훈련 source 데이터의 크기 :',encoder_input_train.shape)\n",
        "print('훈련 target 데이터의 크기 :',decoder_input_train.shape)\n",
        "print('훈련 target 레이블의 크기 :',decoder_target_train.shape)\n",
        "print('테스트 source 데이터의 크기 :',encoder_input_test.shape)\n",
        "print('테스트 target 데이터의 크기 :',decoder_input_test.shape)\n",
        "print('테스트 target 레이블의 크기 :',decoder_target_test.shape)"
      ],
      "metadata": {
        "id": "nlMZzANKWNfz",
        "outputId": "00f1c326-4b05-4dab-e6f2-ae815206f195",
        "colab": {
          "base_uri": "https://localhost:8080/"
        }
      },
      "execution_count": null,
      "outputs": [
        {
          "output_type": "stream",
          "name": "stdout",
          "text": [
            "훈련 source 데이터의 크기 : (180000, 31)\n",
            "훈련 target 데이터의 크기 : (180000, 55)\n",
            "훈련 target 레이블의 크기 : (180000, 55)\n",
            "테스트 source 데이터의 크기 : (20000, 31)\n",
            "테스트 target 데이터의 크기 : (20000, 55)\n",
            "테스트 target 레이블의 크기 : (20000, 55)\n"
          ]
        }
      ]
    },
    {
      "cell_type": "code",
      "source": [
        "from tensorflow.keras.layers import Input, LSTM, Embedding, Dense, Masking, Attention\n",
        "from tensorflow.keras.models import Model"
      ],
      "metadata": {
        "id": "EmeusRZhWRtv"
      },
      "execution_count": null,
      "outputs": []
    },
    {
      "cell_type": "code",
      "source": [
        "from tensorflow.keras.layers import Input\n",
        "\n",
        "# 인코더\n",
        "encoder_inputs = Input(shape=(None, ))\n",
        "\n",
        "# 임베딩 층\n",
        "enc_emb = Embedding(src_vocab_size, embedding_dim)(encoder_inputs)\n",
        "\n",
        "# 상태값 리턴을 위해 return_state는 True\n",
        "encoder_lstm = LSTM(hidden_units, return_state = True, return_sequences = True)\n",
        "\n",
        "# 은닉 상태와 셀 상태를 리턴\n",
        "encoder_outputs, state_h1, state_c1 =  encoder_lstm(enc_emb)\n",
        "_, state_h2, state_c2 = LSTM(hidden_units, return_state=True)(encoder_outputs)\n",
        "\n",
        "encoder_states = [state_h1, state_c1, state_h2, state_c2] # 인코더의 은닉 상태와 셀 상태를 저장"
      ],
      "metadata": {
        "id": "6VqrKVA8WTEl"
      },
      "execution_count": null,
      "outputs": []
    },
    {
      "cell_type": "markdown",
      "source": [
        "디코더에서는 attention layer를 추가합니다. \n",
        "- 이때, s_는 은닉상태와 디코더의 최종 출력은 연결해야 하므로, shape을 맞춰주기 위하여 축을 추가합니다. \n",
        "- attention layer는 디코더의 은닉상태와 인코더의 은닉상태 전체를 받아 컨텍스트 벡터를 생성합니다. \n",
        "- 마지막으로 생성한 컨텍스트 벡터와 디코더의 은닉상태 전체를 softmax layer에 넣고 인덱스를 예측합니다. \n"
      ],
      "metadata": {
        "id": "ssHHt748FYv5"
      }
    },
    {
      "cell_type": "code",
      "source": [
        "state_h1[:, tf.newaxis, :]"
      ],
      "metadata": {
        "colab": {
          "base_uri": "https://localhost:8080/"
        },
        "id": "9u4FYZiuFdLd",
        "outputId": "742b64e4-256d-4541-a253-d33515d16161"
      },
      "execution_count": null,
      "outputs": [
        {
          "output_type": "execute_result",
          "data": {
            "text/plain": [
              "<KerasTensor: shape=(None, 1, 256) dtype=float32 (created by layer 'tf.__operators__.getitem')>"
            ]
          },
          "metadata": {},
          "execution_count": 32
        }
      ]
    },
    {
      "cell_type": "code",
      "source": [
        "# 디코더\n",
        "decoder_inputs = Input(shape=(None, ))\n",
        "\n",
        "# 임베딩 층\n",
        "dec_emb_layer = Embedding(tar_vocab_size, hidden_units)\n",
        "\n",
        "# 임베딩 결과\n",
        "dec_emb = dec_emb_layer(decoder_inputs)\n",
        "\n",
        "# 상태값 리턴을 위해 return_state는 True, 모든 시점에 대해서 단어를 예측하기 위해 return_sequences는 True\n",
        "decoder_lstm = LSTM(hidden_units, return_sequences=True, return_state = True)\n",
        "decoder_lstm2 = LSTM(hidden_units, return_sequences=True, return_state = True)\n",
        "\n",
        "# 인코더의 은닉 상태를 초기 은닉 상태(initial_state)로 사용\n",
        "decoder_outputs, decoder_h1, decoder_c1 = decoder_lstm(dec_emb, initial_state = [state_h1, state_c1])\n",
        "final, decoder_h2, decoder_c2 = decoder_lstm2(decoder_outputs, initial_state= [state_h2, state_c2])\n",
        "\n",
        "# attention\n",
        "S_ = tf.concat([state_h2[:, tf.newaxis, :], final[:, :-1, :]], axis=1) # query \n",
        "\n",
        "attention = Attention(hidden_units)\n",
        "context_vector, _ = attention([ S_, encoder_outputs], return_attention_scores = True)\n",
        "\n",
        "concat = tf.concat([final, context_vector], axis=-1)\n",
        "\n",
        "# 모든 시점의 결과에 대해서 소프트맥스 함수를 사용한 출력층을 통해 단어 예측\n",
        "decoder_dense = Dense(tar_vocab_size, activation = 'softmax')\n",
        "decoder_outputs = decoder_dense(concat)"
      ],
      "metadata": {
        "id": "4ZuDtM1UWYZF"
      },
      "execution_count": null,
      "outputs": []
    },
    {
      "cell_type": "code",
      "source": [
        "# 모델의 입력과 출력을 정의.\n",
        "model = Model([encoder_inputs, decoder_inputs], decoder_outputs)\n",
        "\n",
        "model.compile(optimizer='adam', loss='sparse_categorical_crossentropy', metrics=['acc'])"
      ],
      "metadata": {
        "id": "fx-sdB9wWa2K"
      },
      "execution_count": null,
      "outputs": []
    },
    {
      "cell_type": "code",
      "source": [
        "model.summary()"
      ],
      "metadata": {
        "id": "k4gYmfXxWbfJ",
        "outputId": "a9964351-d939-4f33-ab4b-3cbcfcee707d",
        "colab": {
          "base_uri": "https://localhost:8080/"
        }
      },
      "execution_count": null,
      "outputs": [
        {
          "output_type": "stream",
          "name": "stdout",
          "text": [
            "Model: \"model\"\n",
            "__________________________________________________________________________________________________\n",
            " Layer (type)                   Output Shape         Param #     Connected to                     \n",
            "==================================================================================================\n",
            " input_1 (InputLayer)           [(None, None)]       0           []                               \n",
            "                                                                                                  \n",
            " input_2 (InputLayer)           [(None, None)]       0           []                               \n",
            "                                                                                                  \n",
            " embedding (Embedding)          (None, None, 150)    30369900    ['input_1[0][0]']                \n",
            "                                                                                                  \n",
            " embedding_1 (Embedding)        (None, None, 256)    12111104    ['input_2[0][0]']                \n",
            "                                                                                                  \n",
            " lstm (LSTM)                    [(None, None, 256),  416768      ['embedding[0][0]']              \n",
            "                                 (None, 256),                                                     \n",
            "                                 (None, 256)]                                                     \n",
            "                                                                                                  \n",
            " lstm_2 (LSTM)                  [(None, None, 256),  525312      ['embedding_1[0][0]',            \n",
            "                                 (None, 256),                     'lstm[0][1]',                   \n",
            "                                 (None, 256)]                     'lstm[0][2]']                   \n",
            "                                                                                                  \n",
            " lstm_1 (LSTM)                  [(None, 256),        525312      ['lstm[0][0]']                   \n",
            "                                 (None, 256),                                                     \n",
            "                                 (None, 256)]                                                     \n",
            "                                                                                                  \n",
            " lstm_3 (LSTM)                  [(None, None, 256),  525312      ['lstm_2[0][0]',                 \n",
            "                                 (None, 256),                     'lstm_1[0][1]',                 \n",
            "                                 (None, 256)]                     'lstm_1[0][2]']                 \n",
            "                                                                                                  \n",
            " tf.__operators__.getitem_1 (Sl  (None, 1, 256)      0           ['lstm_1[0][1]']                 \n",
            " icingOpLambda)                                                                                   \n",
            "                                                                                                  \n",
            " tf.__operators__.getitem_2 (Sl  (None, None, 256)   0           ['lstm_3[0][0]']                 \n",
            " icingOpLambda)                                                                                   \n",
            "                                                                                                  \n",
            " tf.concat (TFOpLambda)         (None, None, 256)    0           ['tf.__operators__.getitem_1[0][0\n",
            "                                                                 ]',                              \n",
            "                                                                  'tf.__operators__.getitem_2[0][0\n",
            "                                                                 ]']                              \n",
            "                                                                                                  \n",
            " attention (Attention)          ((None, None, 256),  1           ['tf.concat[0][0]',              \n",
            "                                 (None, None, None)               'lstm[0][0]']                   \n",
            "                                )                                                                 \n",
            "                                                                                                  \n",
            " tf.concat_1 (TFOpLambda)       (None, None, 512)    0           ['lstm_3[0][0]',                 \n",
            "                                                                  'attention[0][0]']              \n",
            "                                                                                                  \n",
            " dense (Dense)                  (None, None, 47309)  24269517    ['tf.concat_1[0][0]']            \n",
            "                                                                                                  \n",
            "==================================================================================================\n",
            "Total params: 68,743,226\n",
            "Trainable params: 68,743,226\n",
            "Non-trainable params: 0\n",
            "__________________________________________________________________________________________________\n"
          ]
        }
      ]
    },
    {
      "cell_type": "code",
      "source": [
        "tf.keras.utils.plot_model(model, to_file='model.png', )"
      ],
      "metadata": {
        "id": "socWL22EWfHJ",
        "outputId": "84585b79-406b-4d27-bd9e-af8d0379d8fe",
        "colab": {
          "base_uri": "https://localhost:8080/",
          "height": 953
        }
      },
      "execution_count": null,
      "outputs": [
        {
          "output_type": "execute_result",
          "data": {
            "image/png": "[encoded data removed]",
            "text/plain": [
              "<IPython.core.display.Image object>"
            ]
          },
          "metadata": {},
          "execution_count": 36
        }
      ]
    },
    {
      "cell_type": "code",
      "source": [
        "model.fit(x=[encoder_input_train, decoder_input_train], y=decoder_target_train, \n",
        "          validation_data=([encoder_input_test, decoder_input_test], decoder_target_test),\n",
        "          batch_size=256, epochs=3)"
      ],
      "metadata": {
        "id": "aB5Uz57HWfJv",
        "outputId": "265521e8-6dda-40a0-a542-3a6ed11c59b4",
        "colab": {
          "base_uri": "https://localhost:8080/"
        }
      },
      "execution_count": null,
      "outputs": [
        {
          "output_type": "stream",
          "name": "stdout",
          "text": [
            "Epoch 1/3\n"
          ]
        }
      ]
    },
    {
      "cell_type": "code",
      "source": [
        "# 인코더 - 훈련과 동일 \n",
        "encoder_model = Model(encoder_inputs, [encoder_outputs, encoder_states])"
      ],
      "metadata": {
        "id": "Ef86FppdWfMS"
      },
      "execution_count": null,
      "outputs": []
    },
    {
      "cell_type": "code",
      "source": [
        "# 디코더 \n",
        "\n",
        "# 이전 시점의 상태를 보관할 텐서\n",
        "decoder_state_input_h1 = Input(shape=(hidden_units,))\n",
        "decoder_state_input_c1 = Input(shape=(hidden_units,))\n",
        "decoder_state_input_h2 = Input(shape=(hidden_units,))\n",
        "decoder_state_input_c2 = Input(shape=(hidden_units,))\n",
        "\n",
        "query_vec = Input(shape=(hidden_units,))\n",
        "encoder_outputs2 = Input(shape =(None, hidden_units,))\n",
        "\n",
        "decoder_states_inputs = [decoder_state_input_h1, decoder_state_input_c1, decoder_state_input_h2, decoder_state_input_c2]\n",
        "\n",
        "# 훈련 때 사용했던 임베딩 층을 재사용\n",
        "dec_emb2 = dec_emb_layer(decoder_inputs)\n",
        "\n",
        "# 다음 단어 예측을 위해 이전 시점의 상태를 현 시점의 초기 상태로 사용\n",
        "decoder_outputs2, state_h2, state_c2 = decoder_lstm(dec_emb2, initial_state=[decoder_state_input_h1, decoder_state_input_c1])\n",
        "decoder_outputs3, state_h3, state_c3 = decoder_lstm2(decoder_outputs2, initial_state=[decoder_state_input_h2, decoder_state_input_c2])\n",
        "decoder_states3 = [state_h2, state_c2, state_h3, state_c3]\n",
        "\n",
        "\n",
        "# attention\n",
        "S_ = tf.concat([query_vec[:, tf.newaxis, :], decoder_outputs3[:, :-1, :]], axis=1) # query \n",
        "\n",
        "attention = Attention(hidden_units)\n",
        "\n",
        "context_vector, att_score = attention([S_, encoder_outputs2], return_attention_scores = True)\n",
        "decoder_concat = tf.concat([decoder_outputs3, context_vector], axis=-1)\n",
        "\n",
        "# 모든 시점에 대해서 단어 예측 (Fully Connected)\n",
        "decoder_outputs3 = decoder_dense(decoder_concat)\n",
        "\n",
        "# 수정된 디코더\n",
        "decoder_model = Model(\n",
        "    [decoder_inputs, query_vec, encoder_outputs2] + decoder_states_inputs,\n",
        "    [decoder_outputs3, att_score] + decoder_states3)"
      ],
      "metadata": {
        "id": "Chd5F-UJWfPG"
      },
      "execution_count": null,
      "outputs": []
    },
    {
      "cell_type": "code",
      "source": [
        "decoder_model.predict"
      ],
      "metadata": {
        "id": "EzU8NP0sWfRo"
      },
      "execution_count": null,
      "outputs": []
    },
    {
      "cell_type": "code",
      "source": [],
      "metadata": {
        "id": "1niZ0m04p5eC"
      },
      "execution_count": null,
      "outputs": []
    },
    {
      "cell_type": "code",
      "source": [
        "# 수정된 디코더\n",
        "\n",
        "# encoder_model = Model(encoder_inputs, encoder_states)\n",
        "# decoder_model = Model(\n",
        "#     [decoder_inputs, query_vec, encoder_outputs2] + decoder_states_inputs,\n",
        "#     [decoder_outputs3, att_score] + decoder_states3)\n",
        "\n",
        "\n",
        "\n",
        "def decode_sequence(input_seq):\n",
        "  # 입력으로부터 인코더의 마지막 시점의 상태(은닉 상태, 셀 상태)를 얻음\n",
        "  encoder_outputs, states_value = encoder_model.predict(input_seq)\n",
        "\n",
        "  # <SOS>에 해당하는 정수 생성\n",
        "  target_seq = np.zeros((1,1))\n",
        "  target_seq[0, 0] = tar_to_index['<sos>']\n",
        "\n",
        "  stop_condition = False\n",
        "  decoded_sentence = ''\n",
        "\n",
        "  # stop_condition이 True가 될 때까지 루프 반복\n",
        "  # 구현의 간소화를 위해서 이 함수는 배치 크기를 1로 가정합니다.\n",
        "  while not stop_condition:\n",
        "    # 이점 시점의 상태 states_value를 현 시점의 초기 상태로 사용\n",
        "    output_tokens, att_score, h1, c1, h2, c2 = decoder_model.predict([target_seq, states_value[3], encoder_outputs] + states_value, verbose = 0)\n",
        "\n",
        "    # 예측 결과를 단어로 변환\n",
        "    sampled_token_index = np.argmax(output_tokens[0, -1, :])\n",
        "    sampled_char = index_to_tar[sampled_token_index]\n",
        "\n",
        "    # 현재 시점의 예측 단어를 예측 문장에 추가\n",
        "    decoded_sentence += ' '+sampled_char\n",
        "\n",
        "    # <eos>에 도달하거나 정해진 길이를 넘으면 중단.\n",
        "    if (sampled_char == '<eos>' or len(decoded_sentence) > 200):\n",
        "        stop_condition = True\n",
        "\n",
        "    # 현재 시점의 예측 결과를 다음 시점의 입력으로 사용하기 위해 저장\n",
        "    target_seq = np.zeros((1,1))\n",
        "    target_seq[0, 0] = sampled_token_index\n",
        "\n",
        "    # 현재 시점의 상태를 다음 시점의 상태로 사용하기 위해 저장\n",
        "    states_value = [h1, c1, h2, c2]\n",
        "\n",
        "  return decoded_sentence"
      ],
      "metadata": {
        "id": "lGeMizE_WfTy"
      },
      "execution_count": null,
      "outputs": []
    },
    {
      "cell_type": "code",
      "source": [
        "# 원문의 정수 시퀀스를 텍스트 시퀀스로 변환\n",
        "def seq_to_src(input_seq):\n",
        "  sentence = ''\n",
        "  for encoded_word in input_seq:\n",
        "    if(encoded_word != 0):\n",
        "      sentence = sentence + index_to_src[encoded_word] + ' '\n",
        "  return sentence\n",
        "\n",
        "# 번역문의 정수 시퀀스를 텍스트 시퀀스로 변환\n",
        "def seq_to_tar(input_seq):\n",
        "  sentence = ''\n",
        "  for encoded_word in input_seq:\n",
        "    if(encoded_word != 0 and encoded_word != tar_to_index['<sos>'] and encoded_word != tar_to_index['<eos>']):\n",
        "      sentence = sentence + index_to_tar[encoded_word] + ' '\n",
        "  return sentence"
      ],
      "metadata": {
        "id": "BdaMOeQUW07c"
      },
      "execution_count": null,
      "outputs": []
    },
    {
      "cell_type": "code",
      "source": [
        "for seq_index in [3, 50, 100, 300, 1001]:\n",
        "  input_seq = encoder_input_train[seq_index: seq_index + 1]\n",
        "  decoded_sentence = decode_sequence(input_seq)\n",
        "\n",
        "  print(\"입력문장 :\",seq_to_src(encoder_input_train[seq_index]))\n",
        "  print(\"정답문장 :\",seq_to_tar(decoder_input_train[seq_index]))\n",
        "  print(\"번역문장 :\",decoded_sentence[1:-5])\n",
        "  print(\"-\"*50)"
      ],
      "metadata": {
        "id": "r1hujralW096"
      },
      "execution_count": null,
      "outputs": []
    },
    {
      "cell_type": "code",
      "source": [],
      "metadata": {
        "id": "CUfcN_w_W50c"
      },
      "execution_count": null,
      "outputs": []
    },
    {
      "cell_type": "markdown",
      "metadata": {
        "id": "DNX_cuBkx9jf"
      },
      "source": [
        "## BLEU Score (Bilingual Evaluation Understudy Score)\n",
        "기계 번역의 성능이 얼마나 뛰어난가를 측정하기 위해 사용되는 대표적인 방법 중 하나인 BLEU(Bilingual Evaluation Understudy)를 측정해봅시다. \n",
        "- 논문 : BLEU: a Method for Automatic Evaluation of Machine Translation\n",
        "- BLEU 점수는 기계 번역된 텍스트와 고품질 참조 번역 세트의 유사성을 측정하는 0과 1 사이의 숫자입니다. \n",
        "    - 값이 0이면 기계 번역된 출력이 참조 번역과 겹치는 부분이 없는 것을 의미하고(저품질)\n",
        "    - 1이면 참조 번역과 완벽하게 겹치는 것을 의미합니다(고품질)\n",
        "\n",
        "- BLEU 설명 \n",
        "    - https://jrc-park.tistory.com/273\n",
        "    - https://wikidocs.net/31695\n",
        "    - https://cloud.google.com/translate/automl/docs/evaluate?hl=ko#bleu"
      ]
    },
    {
      "cell_type": "code",
      "execution_count": null,
      "metadata": {
        "id": "We-xaGcjx1G5"
      },
      "outputs": [],
      "source": [
        "import numpy as np\n",
        "from collections import Counter\n",
        "from nltk import ngrams"
      ]
    },
    {
      "cell_type": "markdown",
      "metadata": {
        "id": "YfrO5SiEyLJN"
      },
      "source": [
        "BLEU는 기계 번역 결과와 사람이 직접 번역한 결과가 얼마나 유사한지 비교하여 번역에 대한 성능을 측정하는 방법입니다. "
      ]
    },
    {
      "cell_type": "code",
      "execution_count": null,
      "metadata": {
        "id": "2uUjykh41Rss"
      },
      "outputs": [],
      "source": [
        "import nltk.translate.bleu_score as bleu\n",
        "\n",
        "candidate = 'It is a guide to action which ensures that the military always obeys the commands of the party'\n",
        "references = [\n",
        "    'It is a guide to action that ensures that the military will forever heed Party commands',\n",
        "    'It is the guiding principle which guarantees the military forces always being under the command of the Party',\n",
        "    'It is the practical guide for the army always to heed the directions of the party'\n",
        "]\n",
        "\n",
        "print('패키지 NLTK의 BLEU :',bleu.sentence_bleu(list(map(lambda ref: ref.split(), references)),candidate.split()))"
      ]
    },
    {
      "cell_type": "code",
      "execution_count": null,
      "metadata": {
        "id": "svJSrNjI2BEX"
      },
      "outputs": [],
      "source": [
        "ref_train = [seq_to_tar(sen) for sen in decoder_input_train[:100]]"
      ]
    },
    {
      "cell_type": "code",
      "execution_count": null,
      "metadata": {
        "id": "4G79TlFv3hvK"
      },
      "outputs": [],
      "source": [
        "from tqdm.notebook import tqdm \n",
        "\n",
        "pred_train = []\n",
        "for idx in tqdm(range(len(encoder_input_train[:100]))):\n",
        "    pred_train.append(decode_sequence(encoder_input_train[idx:idx+1]))"
      ]
    },
    {
      "cell_type": "code",
      "execution_count": null,
      "metadata": {
        "id": "Ft2bz4587Xdu"
      },
      "outputs": [],
      "source": [
        "bleu_score = 0\n",
        "for ref, pred in zip(ref_train, pred_train):\n",
        "    if len(ref) == 0 or len(pred) == 0:\n",
        "        continue\n",
        "    bleu_score += bleu.sentence_bleu(ref, pred)\n",
        "\n",
        "bleu_score = bleu_score/len(ref_train)\n",
        "bleu_score"
      ]
    },
    {
      "cell_type": "code",
      "execution_count": null,
      "metadata": {
        "id": "HXs4uMpO6q8d"
      },
      "outputs": [],
      "source": [
        "ref_test = [seq_to_tar(sen) for sen in decoder_input_test[:100]]\n",
        "pred_test = [decode_sequence(encoder_input_test[idx:idx+1]) for idx in tqdm(range(len(encoder_input_test[:100])))]\n",
        "\n",
        "bleu_score = 0\n",
        "for ref, pred in zip(ref_test, pred_test):\n",
        "    if len(ref) == 0 or len(pred) == 0:\n",
        "        continue\n",
        "    bleu_score += bleu.sentence_bleu(ref, pred)\n",
        "\n",
        "bleu_score = bleu_score/len(ref_test)\n",
        "bleu_score"
      ]
    },
    {
      "cell_type": "markdown",
      "metadata": {
        "id": "vtwNFBDA_ft3"
      },
      "source": [
        "### Reference\n",
        "\n",
        "- https://blog.keras.io/a-ten-minute-introduction-to-sequence-to-sequence-learning-in-keras.html\n",
        "- https://wikidocs.net/86900"
      ]
    },
    {
      "cell_type": "code",
      "execution_count": null,
      "metadata": {
        "id": "XeDJRNsXu1nS"
      },
      "outputs": [],
      "source": []
    }
  ],
  "metadata": {
    "accelerator": "GPU",
    "colab": {
      "provenance": [],
      "machine_shape": "hm"
    },
    "kernelspec": {
      "display_name": "Python 3 (ipykernel)",
      "language": "python",
      "name": "python3"
    },
    "language_info": {
      "codemirror_mode": {
        "name": "ipython",
        "version": 3
      },
      "file_extension": ".py",
      "mimetype": "text/x-python",
      "name": "python",
      "nbconvert_exporter": "python",
      "pygments_lexer": "ipython3",
      "version": "3.8.14"
    },
    "toc": {
      "base_numbering": 1,
      "nav_menu": {},
      "number_sections": true,
      "sideBar": true,
      "skip_h1_title": false,
      "title_cell": "Table of Contents",
      "title_sidebar": "Contents",
      "toc_cell": false,
      "toc_position": {},
      "toc_section_display": true,
      "toc_window_display": false
    },
    "gpuClass": "standard"
  },
  "nbformat": 4,
  "nbformat_minor": 0
}